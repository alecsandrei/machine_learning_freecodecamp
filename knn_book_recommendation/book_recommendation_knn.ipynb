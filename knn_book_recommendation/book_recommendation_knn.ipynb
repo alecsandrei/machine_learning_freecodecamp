{
 "cells": [
  {
   "cell_type": "markdown",
   "metadata": {
    "id": "uGd4NYQX1Rf_"
   },
   "source": [
    "*Note: You are currently reading this using Google Colaboratory which is a cloud-hosted version of Jupyter Notebook. This is a document containing both text cells for documentation and runnable code cells. If you are unfamiliar with Jupyter Notebook, watch this 3-minute introduction before starting this challenge: https://www.youtube.com/watch?v=inN8seMm7UI*\n",
    "\n",
    "---\n",
    "\n",
    "In this challenge, you will create a book recommendation algorithm using **K-Nearest Neighbors**.\n",
    "\n",
    "You will use the [Book-Crossings dataset](http://www2.informatik.uni-freiburg.de/~cziegler/BX/). This dataset contains 1.1 million ratings (scale of 1-10) of 270,000 books by 90,000 users. \n",
    "\n",
    "After importing and cleaning the data, use `NearestNeighbors` from `sklearn.neighbors` to develop a model that shows books that are similar to a given book. The Nearest Neighbors algorithm measures distance to determine the “closeness” of instances.\n",
    "\n",
    "Create a function named `get_recommends` that takes a book title (from the dataset) as an argument and returns a list of 5 similar books with their distances from the book argument.\n",
    "\n",
    "This code:\n",
    "\n",
    "`get_recommends(\"The Queen of the Damned (Vampire Chronicles (Paperback))\")`\n",
    "\n",
    "should return:\n",
    "\n",
    "```\n",
    "[\n",
    "  'The Queen of the Damned (Vampire Chronicles (Paperback))',\n",
    "  [\n",
    "    ['Catch 22', 0.793983519077301], \n",
    "    ['The Witching Hour (Lives of the Mayfair Witches)', 0.7448656558990479], \n",
    "    ['Interview with the Vampire', 0.7345068454742432],\n",
    "    ['The Tale of the Body Thief (Vampire Chronicles (Paperback))', 0.5376338362693787],\n",
    "    ['The Vampire Lestat (Vampire Chronicles, Book II)', 0.5178412199020386]\n",
    "  ]\n",
    "]\n",
    "```\n",
    "\n",
    "Notice that the data returned from `get_recommends()` is a list. The first element in the list is the book title passed in to the function. The second element in the list is a list of five more lists. Each of the five lists contains a recommended book and the distance from the recommended book to the book passed in to the function.\n",
    "\n",
    "If you graph the dataset (optional), you will notice that most books are not rated frequently. To ensure statistical significance, remove from the dataset users with less than 200 ratings and books with less than 100 ratings.\n",
    "\n",
    "The first three cells import libraries you may need and the data to use. The final cell is for testing. Write all your code in between those cells."
   ]
  },
  {
   "cell_type": "code",
   "execution_count": 3,
   "metadata": {
    "id": "Y1onB6kUvo4Z"
   },
   "outputs": [],
   "source": [
    "import numpy as np\n",
    "import pandas as pd\n",
    "from scipy.sparse import csr_matrix\n",
    "from sklearn.neighbors import NearestNeighbors, KNeighborsClassifier\n",
    "from sklearn import preprocessing\n",
    "import sklearn\n",
    "import matplotlib.pyplot as plt"
   ]
  },
  {
   "cell_type": "code",
   "execution_count": 4,
   "metadata": {
    "id": "iAQGqqO_vo4d"
   },
   "outputs": [],
   "source": [
    "books_filename = 'BX-Books.csv'\n",
    "ratings_filename = 'BX-Book-Ratings.csv'"
   ]
  },
  {
   "cell_type": "code",
   "execution_count": 5,
   "metadata": {
    "id": "NClILWOiEd6Q"
   },
   "outputs": [],
   "source": [
    "# import csv data into dataframes\n",
    "df_books = pd.read_csv(\n",
    "    books_filename,\n",
    "    encoding = \"ISO-8859-1\",\n",
    "    sep=\";\",\n",
    "    header=0,\n",
    "    names=['isbn', 'title', 'author'],\n",
    "    usecols=['isbn', 'title', 'author'],\n",
    "    dtype={'isbn': 'str', 'title': 'str', 'author': 'str'})\n",
    "\n",
    "df_ratings = pd.read_csv(\n",
    "    ratings_filename,\n",
    "    encoding = \"ISO-8859-1\",\n",
    "    sep=\";\",\n",
    "    header=0,\n",
    "    names=['user', 'isbn', 'rating'],\n",
    "    usecols=['user', 'isbn', 'rating'],\n",
    "    dtype={'user': 'int32', 'isbn': 'str', 'rating': 'float32'})"
   ]
  },
  {
   "cell_type": "code",
   "execution_count": 6,
   "metadata": {
    "id": "arJr59utsYZF"
   },
   "outputs": [],
   "source": [
    "# dropping books duplicates\n",
    "df_books = df_books.drop_duplicates()\n",
    "\n",
    "# only users with 200+ reviews\n",
    "counts1 = df_ratings['user'].value_counts()\n",
    "df_ratings = df_ratings[df_ratings['user'].isin(counts1[counts1 >= 200].index)]"
   ]
  },
  {
   "cell_type": "code",
   "execution_count": 7,
   "metadata": {
    "id": "qe_PZBoe0EsH"
   },
   "outputs": [],
   "source": [
    "# merging the two dataframes\n",
    "df = pd.merge(df_books, df_ratings, on='isbn')\n",
    "\n",
    "# dropping NaN values caused by the merge\n",
    "df = df.dropna(axis=0, subset=['title'])"
   ]
  },
  {
   "cell_type": "code",
   "execution_count": 8,
   "metadata": {
    "id": "l151REp67Pt5"
   },
   "outputs": [],
   "source": [
    "# counting the number of reviews per unique isbn value\n",
    "ratingCount = (df.\n",
    "               groupby(by=['isbn'])['rating'].\n",
    "               count().\n",
    "               reset_index().\n",
    "               rename(columns = {'rating': 'ratingCount'})\n",
    "               [['isbn', 'ratingCount']]\n",
    "               )"
   ]
  },
  {
   "cell_type": "code",
   "execution_count": 9,
   "metadata": {
    "id": "hLi1UkmWHGnO"
   },
   "outputs": [],
   "source": [
    "# using the number of reviews as threshold for statistical significance\n",
    "threshold = 30\n",
    "df_ratingcount = df.merge(ratingCount, left_on='isbn', right_on='isbn', how='left')\n",
    "df_ratingcount = df_ratingcount.query('ratingCount >= @threshold')\n",
    "\n",
    "# dropping possible duplicates\n",
    "df_ratingcount = df_ratingcount.drop_duplicates(['user', 'title'])"
   ]
  },
  {
   "cell_type": "code",
   "execution_count": 10,
   "metadata": {
    "id": "n5JlpGPQHaPg"
   },
   "outputs": [],
   "source": [
    "# creating a pivot table with unique users as columns\n",
    "df_ratingcount_pivot = df_ratingcount.pivot_table(index='isbn', columns='user', values='rating').fillna(0)"
   ]
  },
  {
   "cell_type": "code",
   "execution_count": 11,
   "metadata": {
    "id": "2ZttsI1Y0DZo"
   },
   "outputs": [],
   "source": [
    "# reseting index in order to be able to map isbn values to book title\n",
    "df_ratingcount_pivot = df_ratingcount_pivot.reset_index()\n",
    "df_ratingcount_pivot['isbn'] = df_ratingcount_pivot['isbn'].map(df_books.set_index('isbn')['title'])\n",
    "df_ratingcount_pivot.index = df_ratingcount_pivot.isbn\n",
    "\n",
    "# dropping useless column\n",
    "df_ratingcount_pivot = df_ratingcount_pivot.drop(df_ratingcount_pivot.columns[[0]], axis=1)"
   ]
  },
  {
   "cell_type": "code",
   "execution_count": 12,
   "metadata": {
    "colab": {
     "base_uri": "https://localhost:8080/"
    },
    "id": "iPsA4CrNJm7p",
    "outputId": "2009449b-9843-4118-ea26-619e308791ce"
   },
   "outputs": [
    {
     "data": {
      "text/plain": [
       "NearestNeighbors(algorithm='brute', metric='cosine')"
      ]
     },
     "execution_count": 12,
     "metadata": {},
     "output_type": "execute_result"
    }
   ],
   "source": [
    "# creating csr matrix to improve comutation\n",
    "df_ratingcount_matrix = csr_matrix(df_ratingcount_pivot.values)\n",
    "\n",
    "# creating the model\n",
    "knn = NearestNeighbors(metric='cosine', algorithm='brute')\n",
    "knn.fit(df_ratingcount_matrix)"
   ]
  },
  {
   "cell_type": "code",
   "execution_count": 13,
   "metadata": {
    "colab": {
     "base_uri": "https://localhost:8080/"
    },
    "id": "Lcqb9ULBLjUb",
    "outputId": "66186cb1-1714-4b60-f1b5-7f7f08f2e626"
   },
   "outputs": [],
   "source": [
    "# function that returns the recommended books\n",
    "def get_recommends(title):\n",
    "  main = []\n",
    "  k = 5\n",
    "  e_dist, indices = knn.kneighbors(df_ratingcount_pivot.iloc[df_ratingcount_pivot.index == title].values.reshape(1,-1), n_neighbors=k+1)\n",
    "  for i in range(0, 2):\n",
    "    if i == 0:\n",
    "      continue\n",
    "    else:\n",
    "      main.append([[df_ratingcount_pivot.index[indices.flatten()[i]], e_dist.flatten()[i]] for i in range(1,k+1)])\n",
    "  main[0].reverse()\n",
    "  main.insert(0, title)\n",
    "  return main"
   ]
  },
  {
   "cell_type": "code",
   "execution_count": 14,
   "metadata": {
    "colab": {
     "base_uri": "https://localhost:8080/"
    },
    "id": "sZ2CvEYZP628",
    "outputId": "6c4c3d06-a46d-40af-c76e-bc47c5d23ca4"
   },
   "outputs": [
    {
     "name": "stdout",
     "output_type": "stream",
     "text": [
      "[\"Where the Heart Is (Oprah's Book Club (Paperback))\", [['The Weight of Water', 0.77085835], ['The Surgeon', 0.7699411], ['Blue Diary', 0.7688525], ['I Know This Much Is True', 0.7677075], ['The Lovely Bones: A Novel', 0.7234864]]]\n",
      "You passed the challenge! 🎉🎉🎉🎉🎉\n"
     ]
    }
   ],
   "source": [
    "books = get_recommends(\"Where the Heart Is (Oprah's Book Club (Paperback))\")\n",
    "print(books)\n",
    "\n",
    "def test_book_recommendation():\n",
    "  test_pass = True\n",
    "  recommends = get_recommends(\"Where the Heart Is (Oprah's Book Club (Paperback))\")\n",
    "  if recommends[0] != \"Where the Heart Is (Oprah's Book Club (Paperback))\":\n",
    "    test_pass = False\n",
    "  recommended_books = [\"I'll Be Seeing You\", 'The Weight of Water', 'The Surgeon', 'I Know This Much Is True']\n",
    "  recommended_books_dist = [0.8, 0.77, 0.77, 0.77]\n",
    "  for i in range(2): \n",
    "    if recommends[1][i][0] not in recommended_books:\n",
    "      test_pass = False\n",
    "    if abs(recommends[1][i][1] - recommended_books_dist[i]) >= 0.05:\n",
    "      test_pass = False\n",
    "  if test_pass:\n",
    "    print(\"You passed the challenge! 🎉🎉🎉🎉🎉\")\n",
    "  else:\n",
    "    print(\"You haven't passed yet. Keep trying!\")\n",
    "\n",
    "test_book_recommendation()"
   ]
  },
  {
   "cell_type": "markdown",
   "metadata": {
    "id": "eat9A2TKawHU"
   },
   "source": [
    "Use the cell below to test your function. The `test_book_recommendation()` function will inform you if you passed the challenge or need to keep trying."
   ]
  }
 ],
 "metadata": {
  "colab": {
   "collapsed_sections": [],
   "provenance": []
  },
  "kernelspec": {
   "display_name": "Python 3 (ipykernel)",
   "language": "python",
   "name": "python3"
  },
  "language_info": {
   "codemirror_mode": {
    "name": "ipython",
    "version": 3
   },
   "file_extension": ".py",
   "mimetype": "text/x-python",
   "name": "python",
   "nbconvert_exporter": "python",
   "pygments_lexer": "ipython3",
   "version": "3.9.12"
  }
 },
 "nbformat": 4,
 "nbformat_minor": 4
}
