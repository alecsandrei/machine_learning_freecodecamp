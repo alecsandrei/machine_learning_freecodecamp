{
 "cells": [
  {
   "cell_type": "markdown",
   "metadata": {
    "id": "Eg62Pmz3o83v"
   },
   "source": [
    "*Note: You are currently reading this using Google Colaboratory which is a cloud-hosted version of Jupyter Notebook. This is a document containing both text cells for documentation and runnable code cells. If you are unfamiliar with Jupyter Notebook, watch this 3-minute introduction before starting this challenge: https://www.youtube.com/watch?v=inN8seMm7UI*\n",
    "\n",
    "---\n",
    "\n",
    "In this challenge, you need to create a machine learning model that will classify SMS messages as either \"ham\" or \"spam\". A \"ham\" message is a normal message sent by a friend. A \"spam\" message is an advertisement or a message sent by a company.\n",
    "\n",
    "You should create a function called `predict_message` that takes a message string as an argument and returns a list. The first element in the list should be a number between zero and one that indicates the likeliness of \"ham\" (0) or \"spam\" (1). The second element in the list should be the word \"ham\" or \"spam\", depending on which is most likely.\n",
    "\n",
    "For this challenge, you will use the [SMS Spam Collection dataset](http://www.dt.fee.unicamp.br/~tiago/smsspamcollection/). The dataset has already been grouped into train data and test data.\n",
    "\n",
    "The first two cells import the libraries and data. The final cell tests your model and function. Add your code in between these cells.\n"
   ]
  },
  {
   "cell_type": "code",
   "execution_count": 3,
   "metadata": {
    "id": "8RZOuS9LWQvv"
   },
   "outputs": [],
   "source": [
    "# import libraries\n",
    "try:\n",
    "  # %tensorflow_version only exists in Colab.\n",
    "  !pip install tf-nightly\n",
    "except Exception:\n",
    "  pass\n",
    "import string\n",
    "import tensorflow as tf\n",
    "import pandas as pd\n",
    "from tensorflow import keras\n",
    "!pip install tensorflow-datasets\n",
    "import tensorflow_datasets as tfds\n",
    "import numpy as np\n",
    "import matplotlib.pyplot as plt\n",
    "from IPython.display import clear_output\n",
    "print(tf.__version__)\n",
    "\n",
    "clear_output()"
   ]
  },
  {
   "cell_type": "code",
   "execution_count": 7,
   "metadata": {
    "id": "lMHwYXHXCar3"
   },
   "outputs": [],
   "source": [
    "train_file_path = \"train-data.tsv\"\n",
    "test_file_path = \"valid-data.tsv\""
   ]
  },
  {
   "cell_type": "code",
   "execution_count": 8,
   "metadata": {
    "id": "g_h508FEClxO"
   },
   "outputs": [],
   "source": [
    "train = pd.read_csv(train_file_path, sep='\\t', header=None)\n",
    "test = pd.read_csv(test_file_path, sep='\\t', header=None)\n",
    "train = train.rename(columns={0: \"class\", 1: \"message\"})\n",
    "test = test.rename(columns={0: \"class\", 1: \"message\"})\n",
    "\n",
    "train['class'] = pd.factorize(train['class'])[0]\n",
    "test['class'] = pd.factorize(test['class'])[0]"
   ]
  },
  {
   "cell_type": "code",
   "execution_count": 9,
   "metadata": {
    "id": "gnLPCkw1c3rN"
   },
   "outputs": [],
   "source": [
    "def remove_punct(text):\n",
    "  translator = str.maketrans(\"\", \"\", string.punctuation)\n",
    "  return text.translate(translator)"
   ]
  },
  {
   "cell_type": "code",
   "execution_count": 10,
   "metadata": {
    "id": "cdXTDI3MeAWO"
   },
   "outputs": [],
   "source": [
    "train.message = train.message.map(remove_punct)\n",
    "test.message = test.message.map(remove_punct)"
   ]
  },
  {
   "cell_type": "code",
   "execution_count": 11,
   "metadata": {
    "id": "xPffxxgWerAU"
   },
   "outputs": [
    {
     "name": "stderr",
     "output_type": "stream",
     "text": [
      "[nltk_data] Downloading package stopwords to\n",
      "[nltk_data]     C:\\Users\\alex\\AppData\\Roaming\\nltk_data...\n",
      "[nltk_data]   Unzipping corpora\\stopwords.zip.\n"
     ]
    }
   ],
   "source": [
    "import nltk\n",
    "nltk.download('stopwords')\n",
    "from nltk.corpus import stopwords\n",
    "\n",
    "stop = set(stopwords.words(\"english\"))\n",
    "\n",
    "def remove_stopwords(text):\n",
    "  filtered_words = [word.lower() for word in text.split() if word.lower() not in stop]\n",
    "  return \" \".join(filtered_words)\n"
   ]
  },
  {
   "cell_type": "code",
   "execution_count": 12,
   "metadata": {
    "id": "lSqnFbhkfp1C"
   },
   "outputs": [],
   "source": [
    "train.message = train.message.map(remove_stopwords)\n",
    "test.message = test.message.map(remove_stopwords)"
   ]
  },
  {
   "cell_type": "code",
   "execution_count": 13,
   "metadata": {
    "id": "8_MbVeLShtq0"
   },
   "outputs": [],
   "source": [
    "from collections import Counter\n",
    "\n",
    "def counter_word(text_col):\n",
    "  count = Counter()\n",
    "  for text in text_col.values:\n",
    "    print(text)\n",
    "    for word in text.split():\n",
    "      count[word] += 1\n",
    "  return count\n",
    "\n",
    "counter = counter_word(train.message) + counter_word(test.message)\n",
    "clear_output()"
   ]
  },
  {
   "cell_type": "code",
   "execution_count": 14,
   "metadata": {
    "id": "dvAJsVE6jVul"
   },
   "outputs": [],
   "source": [
    "num_unique_words = len(counter)"
   ]
  },
  {
   "cell_type": "code",
   "execution_count": 15,
   "metadata": {
    "id": "hEiPlXmpfvZ8"
   },
   "outputs": [],
   "source": [
    "train_message = train.message.to_numpy()\n",
    "train_labels = train['class'].to_numpy()\n",
    "test_message = test.message.to_numpy()\n",
    "test_labels = test['class'].to_numpy()"
   ]
  },
  {
   "cell_type": "code",
   "execution_count": 16,
   "metadata": {
    "id": "GOVYByxyjxd3"
   },
   "outputs": [],
   "source": [
    "from tensorflow.keras.preprocessing.text import Tokenizer\n",
    "\n",
    "tokenizer = Tokenizer(num_words=num_unique_words)\n",
    "tokenizer.fit_on_texts(train_message)\n"
   ]
  },
  {
   "cell_type": "code",
   "execution_count": 17,
   "metadata": {
    "id": "rSAf2bLlkZ72"
   },
   "outputs": [],
   "source": [
    "word_index = tokenizer.word_index"
   ]
  },
  {
   "cell_type": "code",
   "execution_count": 18,
   "metadata": {
    "id": "0EW7W7AQkkXR"
   },
   "outputs": [],
   "source": [
    "train_sequences = tokenizer.texts_to_sequences(train_message)\n",
    "test_sequences = tokenizer.texts_to_sequences(test_message)"
   ]
  },
  {
   "cell_type": "code",
   "execution_count": 19,
   "metadata": {
    "id": "w8liYdgSlQ0A"
   },
   "outputs": [],
   "source": [
    "from tensorflow.keras.preprocessing.sequence import pad_sequences\n",
    "\n",
    "max_length = 20\n",
    "\n",
    "train_padded = pad_sequences(train_sequences, maxlen=max_length, padding=\"post\", truncating=\"post\")\n",
    "test_padded = pad_sequences(test_sequences, maxlen=max_length, padding=\"post\", truncating=\"post\")"
   ]
  },
  {
   "cell_type": "code",
   "execution_count": 20,
   "metadata": {
    "id": "VsdKflgKnoas"
   },
   "outputs": [
    {
     "name": "stdout",
     "output_type": "stream",
     "text": [
      "Model: \"sequential\"\n",
      "_________________________________________________________________\n",
      " Layer (type)                Output Shape              Param #   \n",
      "=================================================================\n",
      " embedding (Embedding)       (None, 20, 32)            304640    \n",
      "                                                                 \n",
      " lstm (LSTM)                 (None, 32)                8320      \n",
      "                                                                 \n",
      " dense (Dense)               (None, 1)                 33        \n",
      "                                                                 \n",
      "=================================================================\n",
      "Total params: 312,993\n",
      "Trainable params: 312,993\n",
      "Non-trainable params: 0\n",
      "_________________________________________________________________\n"
     ]
    }
   ],
   "source": [
    "from tensorflow.keras import layers\n",
    "\n",
    "model = keras.models.Sequential()\n",
    "model.add(layers.Embedding(num_unique_words, 32, input_length=max_length))\n",
    "model.add(layers.LSTM(32, dropout=0.1))\n",
    "model.add(layers.Dense(1, activation='sigmoid'))\n",
    "\n",
    "model.summary()"
   ]
  },
  {
   "cell_type": "code",
   "execution_count": 21,
   "metadata": {
    "id": "-iKZ-I4FoxWd"
   },
   "outputs": [],
   "source": [
    "model.compile(loss='binary_crossentropy', optimizer='rmsprop', metrics=['acc'])"
   ]
  },
  {
   "cell_type": "code",
   "execution_count": 22,
   "metadata": {
    "id": "u3O3HVn7pF5X"
   },
   "outputs": [
    {
     "name": "stdout",
     "output_type": "stream",
     "text": [
      "Epoch 1/15\n",
      "131/131 - 5s - loss: 0.1944 - acc: 0.9354 - val_loss: 0.0891 - val_acc: 0.9792 - 5s/epoch - 40ms/step\n",
      "Epoch 2/15\n",
      "131/131 - 1s - loss: 0.0591 - acc: 0.9840 - val_loss: 0.0678 - val_acc: 0.9828 - 947ms/epoch - 7ms/step\n",
      "Epoch 3/15\n",
      "131/131 - 1s - loss: 0.0321 - acc: 0.9916 - val_loss: 0.0599 - val_acc: 0.9849 - 936ms/epoch - 7ms/step\n",
      "Epoch 4/15\n",
      "131/131 - 1s - loss: 0.0234 - acc: 0.9935 - val_loss: 0.0446 - val_acc: 0.9849 - 912ms/epoch - 7ms/step\n",
      "Epoch 5/15\n",
      "131/131 - 1s - loss: 0.0163 - acc: 0.9955 - val_loss: 0.0467 - val_acc: 0.9892 - 954ms/epoch - 7ms/step\n",
      "Epoch 6/15\n",
      "131/131 - 1s - loss: 0.0133 - acc: 0.9962 - val_loss: 0.0580 - val_acc: 0.9864 - 910ms/epoch - 7ms/step\n",
      "Epoch 7/15\n",
      "131/131 - 1s - loss: 0.0091 - acc: 0.9981 - val_loss: 0.0851 - val_acc: 0.9835 - 919ms/epoch - 7ms/step\n",
      "Epoch 8/15\n",
      "131/131 - 1s - loss: 0.0056 - acc: 0.9988 - val_loss: 0.0954 - val_acc: 0.9842 - 903ms/epoch - 7ms/step\n",
      "Epoch 9/15\n",
      "131/131 - 1s - loss: 0.0066 - acc: 0.9986 - val_loss: 0.0828 - val_acc: 0.9864 - 916ms/epoch - 7ms/step\n",
      "Epoch 10/15\n",
      "131/131 - 1s - loss: 0.0032 - acc: 0.9993 - val_loss: 0.1156 - val_acc: 0.9864 - 901ms/epoch - 7ms/step\n",
      "Epoch 11/15\n",
      "131/131 - 1s - loss: 0.0033 - acc: 0.9995 - val_loss: 0.0796 - val_acc: 0.9864 - 922ms/epoch - 7ms/step\n",
      "Epoch 12/15\n",
      "131/131 - 1s - loss: 0.0023 - acc: 0.9998 - val_loss: 0.0998 - val_acc: 0.9856 - 891ms/epoch - 7ms/step\n",
      "Epoch 13/15\n",
      "131/131 - 1s - loss: 5.9639e-04 - acc: 0.9998 - val_loss: 0.1237 - val_acc: 0.9856 - 860ms/epoch - 7ms/step\n",
      "Epoch 14/15\n",
      "131/131 - 1s - loss: 3.8289e-04 - acc: 0.9995 - val_loss: 0.1445 - val_acc: 0.9842 - 866ms/epoch - 7ms/step\n",
      "Epoch 15/15\n",
      "131/131 - 1s - loss: 4.3566e-06 - acc: 1.0000 - val_loss: 0.1965 - val_acc: 0.9835 - 866ms/epoch - 7ms/step\n"
     ]
    },
    {
     "data": {
      "text/plain": [
       "<keras.callbacks.History at 0x1b4e9548ee0>"
      ]
     },
     "execution_count": 22,
     "metadata": {},
     "output_type": "execute_result"
    }
   ],
   "source": [
    "model.fit(train_padded, train_labels, epochs=15, validation_data=(test_padded, test_labels), validation_split=0.2, verbose=2)"
   ]
  },
  {
   "cell_type": "code",
   "execution_count": 23,
   "metadata": {
    "id": "HsF_tHL1pWZx"
   },
   "outputs": [],
   "source": [
    "def encode_text(text):\n",
    "    tokens = keras.preprocessing.text.text_to_word_sequence(text)\n",
    "    tokens = [word_index[word] if word in word_index else 0 for word in tokens]\n",
    "    return pad_sequences([tokens], maxlen=max_length, padding=\"post\", truncating=\"post\")[0]"
   ]
  },
  {
   "cell_type": "code",
   "execution_count": 24,
   "metadata": {
    "id": "J9tD9yACG6M9"
   },
   "outputs": [
    {
     "name": "stdout",
     "output_type": "stream",
     "text": [
      "[1, 'spam']\n"
     ]
    }
   ],
   "source": [
    "def predict_message(pred_text):\n",
    "  encoded_text = remove_punct(pred_text)\n",
    "  encoded_text = encode_text(pred_text)\n",
    "  pred = np.zeros((1,20))\n",
    "  pred[0] = encoded_text\n",
    "  result = model.predict(pred, verbose=0)\n",
    "  prediction = [1 if result[0] > 0.5 else 0]\n",
    "  category = 'spam' if prediction[0] == 1 else 'ham'\n",
    "  prediction.append(category)\n",
    "  return prediction\n",
    "\n",
    "pred_text = \"sale today! to stop texts call 98912460324\"\n",
    "\n",
    "prediction = predict_message(pred_text)\n",
    "print(prediction)"
   ]
  },
  {
   "cell_type": "code",
   "execution_count": 25,
   "metadata": {
    "id": "Dxotov85SjsC"
   },
   "outputs": [
    {
     "name": "stdout",
     "output_type": "stream",
     "text": [
      "You passed the challenge. Great job!\n"
     ]
    }
   ],
   "source": [
    "def test_predictions():\n",
    "  test_messages = [\"how are you doing today\",\n",
    "                   \"sale today! to stop texts call 98912460324\",\n",
    "                   \"i dont want to go. can we try it a different day? available sat\",\n",
    "                   \"our new mobile video service is live. just install on your phone to start watching.\",\n",
    "                   \"you have won £1000 cash! call to claim your prize.\",\n",
    "                   \"i'll bring it tomorrow. don't forget the milk.\",\n",
    "                   \"wow, is your arm alright. that happened to me one time too\"\n",
    "                  ]\n",
    "\n",
    "  test_answers = [\"ham\", \"spam\", \"ham\", \"spam\", \"spam\", \"ham\", \"ham\"]\n",
    "  passed = True\n",
    "\n",
    "  for msg, ans in zip(test_messages, test_answers):\n",
    "    prediction = predict_message(msg)\n",
    "    if prediction[1] != ans:\n",
    "      passed = False\n",
    "\n",
    "  if passed:\n",
    "    print(\"You passed the challenge. Great job!\")\n",
    "  else:\n",
    "    print(\"You haven't passed yet. Keep trying.\")\n",
    "\n",
    "test_predictions()\n"
   ]
  }
 ],
 "metadata": {
  "colab": {
   "collapsed_sections": [],
   "private_outputs": true,
   "provenance": [],
   "toc_visible": true
  },
  "kernelspec": {
   "display_name": "Python 3 (ipykernel)",
   "language": "python",
   "name": "python3"
  },
  "language_info": {
   "codemirror_mode": {
    "name": "ipython",
    "version": 3
   },
   "file_extension": ".py",
   "mimetype": "text/x-python",
   "name": "python",
   "nbconvert_exporter": "python",
   "pygments_lexer": "ipython3",
   "version": "3.9.12"
  }
 },
 "nbformat": 4,
 "nbformat_minor": 4
}
