{
 "cells": [
  {
   "cell_type": "markdown",
   "metadata": {
    "id": "M9TX15KOkPBV"
   },
   "source": [
    "*Note: You are currently reading this using Google Colaboratory which is a cloud-hosted version of Jupyter Notebook. This is a document containing both text cells for documentation and runnable code cells. If you are unfamiliar with Jupyter Notebook, watch this 3-minute introduction before starting this challenge: https://www.youtube.com/watch?v=inN8seMm7UI*\n",
    "\n",
    "---\n",
    "\n",
    "In this challenge, you will predict healthcare costs using a regression algorithm.\n",
    "\n",
    "You are given a dataset that contains information about different people including their healthcare costs. Use the data to predict healthcare costs based on new data.\n",
    "\n",
    "The first two cells of this notebook import libraries and the data.\n",
    "\n",
    "Make sure to convert categorical data to numbers. Use 80% of the data as the `train_dataset` and 20% of the data as the `test_dataset`.\n",
    "\n",
    "`pop` off the \"expenses\" column from these datasets to create new datasets called `train_labels` and `test_labels`. Use these labels when training your model.\n",
    "\n",
    "Create a model and train it with the `train_dataset`. Run the final cell in this notebook to check your model. The final cell will use the unseen `test_dataset` to check how well the model generalizes.\n",
    "\n",
    "To pass the challenge, `model.evaluate` must return a Mean Absolute Error of under 3500. This means it predicts health care costs correctly within $3500.\n",
    "\n",
    "The final cell will also predict expenses using the `test_dataset` and graph the results."
   ]
  },
  {
   "cell_type": "code",
   "execution_count": null,
   "metadata": {
    "id": "akv4xQp9eO4S"
   },
   "outputs": [],
   "source": [
    "!pip install -q git+https://github.com/tensorflow/docs"
   ]
  },
  {
   "cell_type": "code",
   "execution_count": null,
   "metadata": {
    "id": "1rRo8oNqZ-Rj"
   },
   "outputs": [],
   "source": [
    "# Import libraries. You may or may not use all of these.\n",
    "import matplotlib.pyplot as plt\n",
    "import numpy as np\n",
    "import pandas as pd\n",
    "import sklearn\n",
    "\n",
    "try:\n",
    "  # %tensorflow_version only exists in Colab.\n",
    "  %tensorflow_version 2.x\n",
    "except Exception:\n",
    "  pass\n",
    "import tensorflow as tf\n",
    "\n",
    "from tensorflow import keras\n",
    "from tensorflow.keras import layers\n",
    "from tensorflow.keras.layers.experimental import preprocessing\n",
    "from sklearn.model_selection import train_test_split\n",
    "from IPython.display import clear_output\n",
    "\n",
    "import tensorflow_docs as tfdocs\n",
    "import tensorflow_docs.plots\n",
    "import tensorflow_docs.modeling"
   ]
  },
  {
   "cell_type": "code",
   "execution_count": 4,
   "metadata": {
    "id": "CiX2FI4gZtTt"
   },
   "outputs": [
    {
     "data": {
      "text/html": [
       "<div>\n",
       "<style scoped>\n",
       "    .dataframe tbody tr th:only-of-type {\n",
       "        vertical-align: middle;\n",
       "    }\n",
       "\n",
       "    .dataframe tbody tr th {\n",
       "        vertical-align: top;\n",
       "    }\n",
       "\n",
       "    .dataframe thead th {\n",
       "        text-align: right;\n",
       "    }\n",
       "</style>\n",
       "<table border=\"1\" class=\"dataframe\">\n",
       "  <thead>\n",
       "    <tr style=\"text-align: right;\">\n",
       "      <th></th>\n",
       "      <th>age</th>\n",
       "      <th>sex</th>\n",
       "      <th>bmi</th>\n",
       "      <th>children</th>\n",
       "      <th>smoker</th>\n",
       "      <th>region</th>\n",
       "      <th>expenses</th>\n",
       "    </tr>\n",
       "  </thead>\n",
       "  <tbody>\n",
       "    <tr>\n",
       "      <th>0</th>\n",
       "      <td>19</td>\n",
       "      <td>female</td>\n",
       "      <td>27.9</td>\n",
       "      <td>0</td>\n",
       "      <td>yes</td>\n",
       "      <td>southwest</td>\n",
       "      <td>16884.92</td>\n",
       "    </tr>\n",
       "    <tr>\n",
       "      <th>1</th>\n",
       "      <td>18</td>\n",
       "      <td>male</td>\n",
       "      <td>33.8</td>\n",
       "      <td>1</td>\n",
       "      <td>no</td>\n",
       "      <td>southeast</td>\n",
       "      <td>1725.55</td>\n",
       "    </tr>\n",
       "    <tr>\n",
       "      <th>2</th>\n",
       "      <td>28</td>\n",
       "      <td>male</td>\n",
       "      <td>33.0</td>\n",
       "      <td>3</td>\n",
       "      <td>no</td>\n",
       "      <td>southeast</td>\n",
       "      <td>4449.46</td>\n",
       "    </tr>\n",
       "    <tr>\n",
       "      <th>3</th>\n",
       "      <td>33</td>\n",
       "      <td>male</td>\n",
       "      <td>22.7</td>\n",
       "      <td>0</td>\n",
       "      <td>no</td>\n",
       "      <td>northwest</td>\n",
       "      <td>21984.47</td>\n",
       "    </tr>\n",
       "    <tr>\n",
       "      <th>4</th>\n",
       "      <td>32</td>\n",
       "      <td>male</td>\n",
       "      <td>28.9</td>\n",
       "      <td>0</td>\n",
       "      <td>no</td>\n",
       "      <td>northwest</td>\n",
       "      <td>3866.86</td>\n",
       "    </tr>\n",
       "    <tr>\n",
       "      <th>...</th>\n",
       "      <td>...</td>\n",
       "      <td>...</td>\n",
       "      <td>...</td>\n",
       "      <td>...</td>\n",
       "      <td>...</td>\n",
       "      <td>...</td>\n",
       "      <td>...</td>\n",
       "    </tr>\n",
       "    <tr>\n",
       "      <th>1333</th>\n",
       "      <td>50</td>\n",
       "      <td>male</td>\n",
       "      <td>31.0</td>\n",
       "      <td>3</td>\n",
       "      <td>no</td>\n",
       "      <td>northwest</td>\n",
       "      <td>10600.55</td>\n",
       "    </tr>\n",
       "    <tr>\n",
       "      <th>1334</th>\n",
       "      <td>18</td>\n",
       "      <td>female</td>\n",
       "      <td>31.9</td>\n",
       "      <td>0</td>\n",
       "      <td>no</td>\n",
       "      <td>northeast</td>\n",
       "      <td>2205.98</td>\n",
       "    </tr>\n",
       "    <tr>\n",
       "      <th>1335</th>\n",
       "      <td>18</td>\n",
       "      <td>female</td>\n",
       "      <td>36.9</td>\n",
       "      <td>0</td>\n",
       "      <td>no</td>\n",
       "      <td>southeast</td>\n",
       "      <td>1629.83</td>\n",
       "    </tr>\n",
       "    <tr>\n",
       "      <th>1336</th>\n",
       "      <td>21</td>\n",
       "      <td>female</td>\n",
       "      <td>25.8</td>\n",
       "      <td>0</td>\n",
       "      <td>no</td>\n",
       "      <td>southwest</td>\n",
       "      <td>2007.95</td>\n",
       "    </tr>\n",
       "    <tr>\n",
       "      <th>1337</th>\n",
       "      <td>61</td>\n",
       "      <td>female</td>\n",
       "      <td>29.1</td>\n",
       "      <td>0</td>\n",
       "      <td>yes</td>\n",
       "      <td>northwest</td>\n",
       "      <td>29141.36</td>\n",
       "    </tr>\n",
       "  </tbody>\n",
       "</table>\n",
       "<p>1338 rows × 7 columns</p>\n",
       "</div>"
      ],
      "text/plain": [
       "      age     sex   bmi  children smoker     region  expenses\n",
       "0      19  female  27.9         0    yes  southwest  16884.92\n",
       "1      18    male  33.8         1     no  southeast   1725.55\n",
       "2      28    male  33.0         3     no  southeast   4449.46\n",
       "3      33    male  22.7         0     no  northwest  21984.47\n",
       "4      32    male  28.9         0     no  northwest   3866.86\n",
       "...   ...     ...   ...       ...    ...        ...       ...\n",
       "1333   50    male  31.0         3     no  northwest  10600.55\n",
       "1334   18  female  31.9         0     no  northeast   2205.98\n",
       "1335   18  female  36.9         0     no  southeast   1629.83\n",
       "1336   21  female  25.8         0     no  southwest   2007.95\n",
       "1337   61  female  29.1         0    yes  northwest  29141.36\n",
       "\n",
       "[1338 rows x 7 columns]"
      ]
     },
     "execution_count": 4,
     "metadata": {},
     "output_type": "execute_result"
    }
   ],
   "source": [
    "# Import data\n",
    "dataset = pd.read_csv('insurance.csv')\n",
    "clear_output(wait=True)\n",
    "dataset"
   ]
  },
  {
   "cell_type": "code",
   "execution_count": 5,
   "metadata": {
    "id": "nzJOrcNB4iUt"
   },
   "outputs": [],
   "source": [
    "# small script to encode all non numerical columns to numerical columns\n",
    "\n",
    "le = sklearn.preprocessing.LabelEncoder()\n",
    "for column in dataset.columns:\n",
    "  if 'int' in str(type(dataset[column][0])) or 'float' in str(type(dataset[column][0])):\n",
    "    continue\n",
    "  else:\n",
    "    dataset[column] = le.fit_transform(dataset[column])"
   ]
  },
  {
   "cell_type": "code",
   "execution_count": 6,
   "metadata": {
    "id": "Xk9X6h8jvriM"
   },
   "outputs": [
    {
     "data": {
      "text/plain": [
       "((1338, 7), (1070, 6), (268, 6))"
      ]
     },
     "execution_count": 6,
     "metadata": {},
     "output_type": "execute_result"
    }
   ],
   "source": [
    "x = dataset.copy()\n",
    "y = dataset.copy()\n",
    "\n",
    "train_dataset, test_dataset, train_labels, test_labels = train_test_split(x, y, test_size=0.2)\n",
    "\n",
    "train_labels = train_dataset.pop('expenses')\n",
    "test_labels = test_dataset.pop('expenses')\n",
    "\n",
    "dataset.shape, train_dataset.shape, test_dataset.shape"
   ]
  },
  {
   "cell_type": "code",
   "execution_count": 7,
   "metadata": {
    "id": "DtFjpPINgeXO"
   },
   "outputs": [],
   "source": [
    "# normalizing the data with keras preprocessing\n",
    "\n",
    "normalizer = preprocessing.Normalization()\n",
    "normalizer.adapt(np.array(train_dataset))"
   ]
  },
  {
   "cell_type": "code",
   "execution_count": 8,
   "metadata": {
    "id": "uK_qMmMDpeR_"
   },
   "outputs": [],
   "source": [
    "# the optimizer\n",
    "\n",
    "optim = keras.optimizers.Adam(learning_rate=0.1)"
   ]
  },
  {
   "cell_type": "code",
   "execution_count": 9,
   "metadata": {
    "id": "Gy2mVt_koK0B"
   },
   "outputs": [],
   "source": [
    "model = tf.keras.Sequential([\n",
    "    normalizer,\n",
    "    layers.Dense(units=64, activation='relu'),\n",
    "    layers.Dense(units=128, activation='relu'),\n",
    "    layers.Dropout(.2),\n",
    "    layers.Dense(units=1)\n",
    "])\n",
    "\n",
    "model.compile(\n",
    "    optimizer=optim,\n",
    "    loss='mae',\n",
    "    metrics=['mae', 'mse']\n",
    ")"
   ]
  },
  {
   "cell_type": "code",
   "execution_count": 10,
   "metadata": {
    "id": "LT-zaUUuo2pF"
   },
   "outputs": [
    {
     "name": "stdout",
     "output_type": "stream",
     "text": [
      "Epoch 1/20\n",
      "27/27 [==============================] - 1s 15ms/step - loss: 8508.1504 - mae: 8508.1504 - mse: 167612064.0000 - val_loss: 3701.7529 - val_mae: 3701.7529 - val_mse: 34274124.0000\n",
      "Epoch 2/20\n",
      "27/27 [==============================] - 0s 3ms/step - loss: 3939.7720 - mae: 3939.7720 - mse: 44537636.0000 - val_loss: 3209.8086 - val_mae: 3209.8086 - val_mse: 27850976.0000\n",
      "Epoch 3/20\n",
      "27/27 [==============================] - 0s 3ms/step - loss: 3592.9275 - mae: 3592.9275 - mse: 37989656.0000 - val_loss: 2904.7200 - val_mae: 2904.7200 - val_mse: 27151962.0000\n",
      "Epoch 4/20\n",
      "27/27 [==============================] - 0s 3ms/step - loss: 3249.4875 - mae: 3249.4875 - mse: 33197752.0000 - val_loss: 2502.5735 - val_mae: 2502.5735 - val_mse: 23132646.0000\n",
      "Epoch 5/20\n",
      "27/27 [==============================] - 0s 3ms/step - loss: 2931.5674 - mae: 2931.5674 - mse: 30637162.0000 - val_loss: 2049.5859 - val_mae: 2049.5859 - val_mse: 20687446.0000\n",
      "Epoch 6/20\n",
      "27/27 [==============================] - 0s 3ms/step - loss: 2786.1533 - mae: 2786.1533 - mse: 30108350.0000 - val_loss: 2062.2854 - val_mae: 2062.2854 - val_mse: 20891136.0000\n",
      "Epoch 7/20\n",
      "27/27 [==============================] - 0s 3ms/step - loss: 2754.9282 - mae: 2754.9282 - mse: 30232698.0000 - val_loss: 2186.6638 - val_mae: 2186.6638 - val_mse: 22109354.0000\n",
      "Epoch 8/20\n",
      "27/27 [==============================] - 0s 3ms/step - loss: 2677.4768 - mae: 2677.4768 - mse: 28867446.0000 - val_loss: 2224.7629 - val_mae: 2224.7629 - val_mse: 21800436.0000\n",
      "Epoch 9/20\n",
      "27/27 [==============================] - 0s 3ms/step - loss: 2624.5664 - mae: 2624.5664 - mse: 29062478.0000 - val_loss: 2586.9878 - val_mae: 2586.9878 - val_mse: 23919836.0000\n",
      "Epoch 10/20\n",
      "27/27 [==============================] - 0s 3ms/step - loss: 2783.5337 - mae: 2783.5337 - mse: 29434144.0000 - val_loss: 2161.8059 - val_mae: 2161.8059 - val_mse: 18725430.0000\n",
      "Epoch 11/20\n",
      "27/27 [==============================] - 0s 4ms/step - loss: 2699.4580 - mae: 2699.4580 - mse: 29179860.0000 - val_loss: 2489.0264 - val_mae: 2489.0264 - val_mse: 26177890.0000\n",
      "Epoch 12/20\n",
      "27/27 [==============================] - 0s 3ms/step - loss: 2814.3845 - mae: 2814.3845 - mse: 29303574.0000 - val_loss: 2206.7456 - val_mae: 2206.7456 - val_mse: 22522330.0000\n",
      "Epoch 13/20\n",
      "27/27 [==============================] - 0s 3ms/step - loss: 2636.4719 - mae: 2636.4719 - mse: 28943048.0000 - val_loss: 1969.9636 - val_mae: 1969.9636 - val_mse: 20656880.0000\n",
      "Epoch 14/20\n",
      "27/27 [==============================] - 0s 3ms/step - loss: 2510.9158 - mae: 2510.9158 - mse: 28624474.0000 - val_loss: 1868.9229 - val_mae: 1868.9229 - val_mse: 20199902.0000\n",
      "Epoch 15/20\n",
      "27/27 [==============================] - 0s 3ms/step - loss: 2554.6074 - mae: 2554.6074 - mse: 28661002.0000 - val_loss: 2081.3511 - val_mae: 2081.3511 - val_mse: 19967536.0000\n",
      "Epoch 16/20\n",
      "27/27 [==============================] - 0s 3ms/step - loss: 2583.3154 - mae: 2583.3154 - mse: 28065882.0000 - val_loss: 2010.9926 - val_mae: 2010.9926 - val_mse: 18984232.0000\n",
      "Epoch 17/20\n",
      "27/27 [==============================] - 0s 3ms/step - loss: 2679.9854 - mae: 2679.9854 - mse: 29421972.0000 - val_loss: 2018.2175 - val_mae: 2018.2175 - val_mse: 21023602.0000\n",
      "Epoch 18/20\n",
      "27/27 [==============================] - 0s 3ms/step - loss: 2639.5491 - mae: 2639.5491 - mse: 29748994.0000 - val_loss: 2093.1633 - val_mae: 2093.1633 - val_mse: 18387348.0000\n",
      "Epoch 19/20\n",
      "27/27 [==============================] - 0s 3ms/step - loss: 2599.3708 - mae: 2599.3708 - mse: 28570700.0000 - val_loss: 1924.8236 - val_mae: 1924.8236 - val_mse: 20038206.0000\n",
      "Epoch 20/20\n",
      "27/27 [==============================] - 0s 3ms/step - loss: 2714.3633 - mae: 2714.3633 - mse: 29698852.0000 - val_loss: 2159.4395 - val_mae: 2159.4395 - val_mse: 21744382.0000\n"
     ]
    },
    {
     "data": {
      "text/plain": [
       "<keras.callbacks.History at 0x29317516730>"
      ]
     },
     "execution_count": 10,
     "metadata": {},
     "output_type": "execute_result"
    }
   ],
   "source": [
    "model.fit(\n",
    "    train_dataset, train_labels,\n",
    "    epochs=20,\n",
    "    verbose=1,\n",
    "    validation_split=0.2)"
   ]
  },
  {
   "cell_type": "code",
   "execution_count": 12,
   "metadata": {
    "id": "8qEgl4v2o-U-"
   },
   "outputs": [
    {
     "data": {
      "text/plain": [
       "[2266.8076171875, 2266.8076171875, 24970324.0]"
      ]
     },
     "execution_count": 12,
     "metadata": {},
     "output_type": "execute_result"
    }
   ],
   "source": [
    "model.evaluate(\n",
    "    test_dataset, test_labels, verbose=3\n",
    ")"
   ]
  },
  {
   "cell_type": "code",
   "execution_count": 13,
   "metadata": {
    "id": "Xe7RXH3N3CWU"
   },
   "outputs": [
    {
     "name": "stdout",
     "output_type": "stream",
     "text": [
      "9/9 - 0s - loss: 2266.8076 - mae: 2266.8076 - mse: 24970324.0000 - 28ms/epoch - 3ms/step\n",
      "Testing set Mean Abs Error: 2266.81 expenses\n",
      "You passed the challenge. Great job!\n",
      "9/9 [==============================] - 0s 1ms/step\n"
     ]
    },
    {
     "data": {
      "image/png": "[encoded data removed]",
      "text/plain": [
       "<Figure size 432x288 with 1 Axes>"
      ]
     },
     "metadata": {
      "needs_background": "light"
     },
     "output_type": "display_data"
    }
   ],
   "source": [
    "# RUN THIS CELL TO TEST YOUR MODEL. DO NOT MODIFY CONTENTS.\n",
    "# Test model by checking how well the model generalizes using the test set.\n",
    "loss, mae, mse = model.evaluate(test_dataset, test_labels, verbose=2)\n",
    "\n",
    "print(\"Testing set Mean Abs Error: {:5.2f} expenses\".format(mae))\n",
    "\n",
    "if mae < 3500:\n",
    "  print(\"You passed the challenge. Great job!\")\n",
    "else:\n",
    "  print(\"The Mean Abs Error must be less than 3500. Keep trying.\")\n",
    "\n",
    "# Plot predictions.\n",
    "test_predictions = model.predict(test_dataset).flatten()\n",
    "\n",
    "a = plt.axes(aspect='equal')\n",
    "plt.scatter(test_labels, test_predictions)\n",
    "plt.xlabel('True values (expenses)')\n",
    "plt.ylabel('Predictions (expenses)')\n",
    "lims = [0, 50000]\n",
    "plt.xlim(lims)\n",
    "plt.ylim(lims)\n",
    "_ = plt.plot(lims,lims)\n"
   ]
  }
 ],
 "metadata": {
  "colab": {
   "collapsed_sections": [],
   "private_outputs": true,
   "provenance": [],
   "toc_visible": true
  },
  "kernelspec": {
   "display_name": "Python 3 (ipykernel)",
   "language": "python",
   "name": "python3"
  },
  "language_info": {
   "codemirror_mode": {
    "name": "ipython",
    "version": 3
   },
   "file_extension": ".py",
   "mimetype": "text/x-python",
   "name": "python",
   "nbconvert_exporter": "python",
   "pygments_lexer": "ipython3",
   "version": "3.9.12"
  }
 },
 "nbformat": 4,
 "nbformat_minor": 4
}
